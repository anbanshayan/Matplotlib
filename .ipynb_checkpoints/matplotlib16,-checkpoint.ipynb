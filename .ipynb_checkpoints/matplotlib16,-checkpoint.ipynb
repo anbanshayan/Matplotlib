{
 "cells": [
  {
   "cell_type": "code",
   "execution_count": null,
   "id": "32579bb8",
   "metadata": {
    "vscode": {
     "languageId": "plaintext"
    }
   },
   "outputs": [],
   "source": []
  },
  {
   "cell_type": "code",
   "execution_count": null,
   "id": "7cfa3f12",
   "metadata": {
    "vscode": {
     "languageId": "plaintext"
    }
   },
   "outputs": [],
   "source": [
    "import"
   ]
  }
 ],
 "metadata": {
  "language_info": {
   "name": "python"
  }
 },
 "nbformat": 4,
 "nbformat_minor": 5
}
