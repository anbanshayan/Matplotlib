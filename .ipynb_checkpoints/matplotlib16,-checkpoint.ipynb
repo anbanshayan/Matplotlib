{
 "cells": [
  {
   "cell_type": "code",
   "execution_count": 1,
   "id": "32579bb8",
   "metadata": {
    "vscode": {
     "languageId": "plaintext"
    }
   },
   "outputs": [
    {
     "ename": "NameError",
     "evalue": "name 'x' is not defined",
     "output_type": "error",
     "traceback": [
      "\u001b[31m---------------------------------------------------------------------------\u001b[39m",
      "\u001b[31mNameError\u001b[39m                                 Traceback (most recent call last)",
      "\u001b[36mCell\u001b[39m\u001b[36m \u001b[39m\u001b[32mIn[1]\u001b[39m\u001b[32m, line 4\u001b[39m\n\u001b[32m      2\u001b[39m dev_x = [\u001b[32m25\u001b[39m,\u001b[32m26\u001b[39m,\u001b[32m27\u001b[39m,\u001b[32m28\u001b[39m,\u001b[32m29\u001b[39m,\u001b[32m30\u001b[39m,\u001b[32m31\u001b[39m,\u001b[32m32\u001b[39m,\u001b[32m33\u001b[39m,\u001b[32m34\u001b[39m,\u001b[32m35\u001b[39m]\n\u001b[32m      3\u001b[39m dev_y = [\u001b[32m38496\u001b[39m,\u001b[32m42000\u001b[39m,\u001b[32m46752\u001b[39m,\u001b[32m49320\u001b[39m,\u001b[32m53200\u001b[39m,\u001b[32m56000\u001b[39m,\u001b[32m62316\u001b[39m,\u001b[32m64928\u001b[39m,\u001b[32m67317\u001b[39m,\u001b[32m68748\u001b[39m,\u001b[32m73752\u001b[39m]\n\u001b[32m----> \u001b[39m\u001b[32m4\u001b[39m pyplot.plot(\u001b[43mx\u001b[49m,y)\n\u001b[32m      5\u001b[39m pyplot.show()\n",
      "\u001b[31mNameError\u001b[39m: name 'x' is not defined"
     ]
    }
   ],
   "source": [
    "from matplotlib import pyplot as pyplot\n",
    "dev_x = [25,26,27,28,29,30,31,32,33,34,35]\n",
    "dev_y = [38496,42000,46752,49320,53200,56000,62316,64928,67317,68748,73752]\n",
    "pyplot.plot(dev_x,dev_y)\n",
    "pyplot.show()"
   ]
  },
  {
   "cell_type": "code",
   "execution_count": null,
   "id": "7cfa3f12",
   "metadata": {
    "vscode": {
     "languageId": "plaintext"
    }
   },
   "outputs": [],
   "source": []
  }
 ],
 "metadata": {
  "kernelspec": {
   "display_name": "Python 3 (ipykernel)",
   "language": "python",
   "name": "python3"
  },
  "language_info": {
   "codemirror_mode": {
    "name": "ipython",
    "version": 3
   },
   "file_extension": ".py",
   "mimetype": "text/x-python",
   "name": "python",
   "nbconvert_exporter": "python",
   "pygments_lexer": "ipython3",
   "version": "3.12.3"
  }
 },
 "nbformat": 4,
 "nbformat_minor": 5
}
