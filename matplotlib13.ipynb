{
 "cells": [
  {
   "cell_type": "code",
   "execution_count": null,
   "id": "b8212b19-04ce-4e72-acd0-2684c9966f7f",
   "metadata": {
    "vscode": {
     "languageId": "plaintext"
    }
   },
   "outputs": [],
   "source": [
    "**Histogran goes here**"
   ]
  },
  {
   "cell_type": "code",
   "execution_count": null,
   "id": "28946918-1e8f-435d-87b2-a4b1fd54385e",
   "metadata": {},
   "outputs": [],
   "source": [
    "from matplotlib import pyploy as plt\n",
    "import numpy as np"
   ]
  },
  {
   "cell_type": "code",
   "execution_count": null,
   "id": "138015a8-6fe9-435c-9f16-b7c1dcb4629d",
   "metadata": {},
   "outputs": [],
   "source": [
    "marks = [20,30,40,50,60]\n"
   ]
  }
 ],
 "metadata": {
  "kernelspec": {
   "display_name": "Python 3 (ipykernel)",
   "language": "python",
   "name": "python3"
  },
  "language_info": {
   "codemirror_mode": {
    "name": "ipython",
    "version": 3
   },
   "file_extension": ".py",
   "mimetype": "text/x-python",
   "name": "python",
   "nbconvert_exporter": "python",
   "pygments_lexer": "ipython3",
   "version": "3.12.3"
  }
 },
 "nbformat": 4,
 "nbformat_minor": 5
}
